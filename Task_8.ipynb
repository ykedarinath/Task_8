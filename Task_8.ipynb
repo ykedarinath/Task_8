{
  "nbformat": 4,
  "nbformat_minor": 0,
  "metadata": {
    "colab": {
      "provenance": [],
      "collapsed_sections": []
    },
    "kernelspec": {
      "name": "python3",
      "display_name": "Python 3"
    },
    "language_info": {
      "name": "python"
    }
  },
  "cells": [
    {
      "cell_type": "markdown",
      "source": [
        "# Task-1\n",
        "\n",
        "You need to translate each word or sentence from English to Spanish, French and German"
      ],
      "metadata": {
        "id": "q6IZLuZamcEf"
      }
    },
    {
      "cell_type": "code",
      "source": [
        "from google.colab import drive\n",
        "drive.mount('/content/drive')"
      ],
      "metadata": {
        "colab": {
          "base_uri": "https://localhost:8080/"
        },
        "id": "Sbil0Lz07Ayq",
        "outputId": "d9ad653f-6e9e-4acc-859d-a6c665296cc0"
      },
      "execution_count": 2,
      "outputs": [
        {
          "output_type": "stream",
          "name": "stdout",
          "text": [
            "Mounted at /content/drive\n"
          ]
        }
      ]
    },
    {
      "cell_type": "code",
      "source": [
        "!pip install deep-translator"
      ],
      "metadata": {
        "colab": {
          "base_uri": "https://localhost:8080/"
        },
        "id": "omuvDyZBmdrk",
        "outputId": "a07ccf0c-cb07-41a3-c0bc-3ba9d24ab3eb"
      },
      "execution_count": 1,
      "outputs": [
        {
          "output_type": "stream",
          "name": "stdout",
          "text": [
            "Looking in indexes: https://pypi.org/simple, https://us-python.pkg.dev/colab-wheels/public/simple/\n",
            "Collecting deep-translator\n",
            "  Downloading deep_translator-1.8.3-py3-none-any.whl (29 kB)\n",
            "Requirement already satisfied: requests<3.0.0,>=2.23.0 in /usr/local/lib/python3.7/dist-packages (from deep-translator) (2.23.0)\n",
            "Collecting beautifulsoup4<5.0.0,>=4.9.1\n",
            "  Downloading beautifulsoup4-4.11.1-py3-none-any.whl (128 kB)\n",
            "\u001b[K     |████████████████████████████████| 128 kB 6.2 MB/s \n",
            "\u001b[?25hCollecting soupsieve>1.2\n",
            "  Downloading soupsieve-2.3.2.post1-py3-none-any.whl (37 kB)\n",
            "Requirement already satisfied: chardet<4,>=3.0.2 in /usr/local/lib/python3.7/dist-packages (from requests<3.0.0,>=2.23.0->deep-translator) (3.0.4)\n",
            "Requirement already satisfied: idna<3,>=2.5 in /usr/local/lib/python3.7/dist-packages (from requests<3.0.0,>=2.23.0->deep-translator) (2.10)\n",
            "Requirement already satisfied: certifi>=2017.4.17 in /usr/local/lib/python3.7/dist-packages (from requests<3.0.0,>=2.23.0->deep-translator) (2022.6.15)\n",
            "Requirement already satisfied: urllib3!=1.25.0,!=1.25.1,<1.26,>=1.21.1 in /usr/local/lib/python3.7/dist-packages (from requests<3.0.0,>=2.23.0->deep-translator) (1.24.3)\n",
            "Installing collected packages: soupsieve, beautifulsoup4, deep-translator\n",
            "  Attempting uninstall: beautifulsoup4\n",
            "    Found existing installation: beautifulsoup4 4.6.3\n",
            "    Uninstalling beautifulsoup4-4.6.3:\n",
            "      Successfully uninstalled beautifulsoup4-4.6.3\n",
            "Successfully installed beautifulsoup4-4.11.1 deep-translator-1.8.3 soupsieve-2.3.2.post1\n"
          ]
        }
      ]
    },
    {
      "cell_type": "code",
      "source": [
        "import pandas as pd\n",
        "import nltk\n",
        "from deep_translator import GoogleTranslator\n",
        "\n"
      ],
      "metadata": {
        "id": "4AM6TVQ2mjSk"
      },
      "execution_count": 3,
      "outputs": []
    },
    {
      "cell_type": "code",
      "source": [
        "nltk.download('punkt')\n",
        "nltk.download('wordnet')"
      ],
      "metadata": {
        "colab": {
          "base_uri": "https://localhost:8080/"
        },
        "id": "31Zu9BjA7U49",
        "outputId": "4f5bb8d4-dc98-4743-d082-00116002710f"
      },
      "execution_count": 4,
      "outputs": [
        {
          "output_type": "stream",
          "name": "stderr",
          "text": [
            "[nltk_data] Downloading package punkt to /root/nltk_data...\n",
            "[nltk_data]   Unzipping tokenizers/punkt.zip.\n",
            "[nltk_data] Downloading package wordnet to /root/nltk_data...\n"
          ]
        },
        {
          "output_type": "execute_result",
          "data": {
            "text/plain": [
              "True"
            ]
          },
          "metadata": {},
          "execution_count": 4
        }
      ]
    },
    {
      "cell_type": "code",
      "source": [
        "T_Eng = pd.read_csv(\"/content/English.csv\")\n",
        "T_Eng.head()"
      ],
      "metadata": {
        "colab": {
          "base_uri": "https://localhost:8080/",
          "height": 206
        },
        "id": "0tdCRvzLmnSE",
        "outputId": "24adc47f-a916-426d-941a-237034a9fd9c"
      },
      "execution_count": 9,
      "outputs": [
        {
          "output_type": "execute_result",
          "data": {
            "text/plain": [
              "  English words/sentences\n",
              "0                     Hi.\n",
              "1                    Run!\n",
              "2                    Run!\n",
              "3                    Who?\n",
              "4                    Wow!"
            ],
            "text/html": [
              "\n",
              "  <div id=\"df-40c3a15e-8e96-4068-8d64-390144cfe770\">\n",
              "    <div class=\"colab-df-container\">\n",
              "      <div>\n",
              "<style scoped>\n",
              "    .dataframe tbody tr th:only-of-type {\n",
              "        vertical-align: middle;\n",
              "    }\n",
              "\n",
              "    .dataframe tbody tr th {\n",
              "        vertical-align: top;\n",
              "    }\n",
              "\n",
              "    .dataframe thead th {\n",
              "        text-align: right;\n",
              "    }\n",
              "</style>\n",
              "<table border=\"1\" class=\"dataframe\">\n",
              "  <thead>\n",
              "    <tr style=\"text-align: right;\">\n",
              "      <th></th>\n",
              "      <th>English words/sentences</th>\n",
              "    </tr>\n",
              "  </thead>\n",
              "  <tbody>\n",
              "    <tr>\n",
              "      <th>0</th>\n",
              "      <td>Hi.</td>\n",
              "    </tr>\n",
              "    <tr>\n",
              "      <th>1</th>\n",
              "      <td>Run!</td>\n",
              "    </tr>\n",
              "    <tr>\n",
              "      <th>2</th>\n",
              "      <td>Run!</td>\n",
              "    </tr>\n",
              "    <tr>\n",
              "      <th>3</th>\n",
              "      <td>Who?</td>\n",
              "    </tr>\n",
              "    <tr>\n",
              "      <th>4</th>\n",
              "      <td>Wow!</td>\n",
              "    </tr>\n",
              "  </tbody>\n",
              "</table>\n",
              "</div>\n",
              "      <button class=\"colab-df-convert\" onclick=\"convertToInteractive('df-40c3a15e-8e96-4068-8d64-390144cfe770')\"\n",
              "              title=\"Convert this dataframe to an interactive table.\"\n",
              "              style=\"display:none;\">\n",
              "        \n",
              "  <svg xmlns=\"http://www.w3.org/2000/svg\" height=\"24px\"viewBox=\"0 0 24 24\"\n",
              "       width=\"24px\">\n",
              "    <path d=\"M0 0h24v24H0V0z\" fill=\"none\"/>\n",
              "    <path d=\"M18.56 5.44l.94 2.06.94-2.06 2.06-.94-2.06-.94-.94-2.06-.94 2.06-2.06.94zm-11 1L8.5 8.5l.94-2.06 2.06-.94-2.06-.94L8.5 2.5l-.94 2.06-2.06.94zm10 10l.94 2.06.94-2.06 2.06-.94-2.06-.94-.94-2.06-.94 2.06-2.06.94z\"/><path d=\"M17.41 7.96l-1.37-1.37c-.4-.4-.92-.59-1.43-.59-.52 0-1.04.2-1.43.59L10.3 9.45l-7.72 7.72c-.78.78-.78 2.05 0 2.83L4 21.41c.39.39.9.59 1.41.59.51 0 1.02-.2 1.41-.59l7.78-7.78 2.81-2.81c.8-.78.8-2.07 0-2.86zM5.41 20L4 18.59l7.72-7.72 1.47 1.35L5.41 20z\"/>\n",
              "  </svg>\n",
              "      </button>\n",
              "      \n",
              "  <style>\n",
              "    .colab-df-container {\n",
              "      display:flex;\n",
              "      flex-wrap:wrap;\n",
              "      gap: 12px;\n",
              "    }\n",
              "\n",
              "    .colab-df-convert {\n",
              "      background-color: #E8F0FE;\n",
              "      border: none;\n",
              "      border-radius: 50%;\n",
              "      cursor: pointer;\n",
              "      display: none;\n",
              "      fill: #1967D2;\n",
              "      height: 32px;\n",
              "      padding: 0 0 0 0;\n",
              "      width: 32px;\n",
              "    }\n",
              "\n",
              "    .colab-df-convert:hover {\n",
              "      background-color: #E2EBFA;\n",
              "      box-shadow: 0px 1px 2px rgba(60, 64, 67, 0.3), 0px 1px 3px 1px rgba(60, 64, 67, 0.15);\n",
              "      fill: #174EA6;\n",
              "    }\n",
              "\n",
              "    [theme=dark] .colab-df-convert {\n",
              "      background-color: #3B4455;\n",
              "      fill: #D2E3FC;\n",
              "    }\n",
              "\n",
              "    [theme=dark] .colab-df-convert:hover {\n",
              "      background-color: #434B5C;\n",
              "      box-shadow: 0px 1px 3px 1px rgba(0, 0, 0, 0.15);\n",
              "      filter: drop-shadow(0px 1px 2px rgba(0, 0, 0, 0.3));\n",
              "      fill: #FFFFFF;\n",
              "    }\n",
              "  </style>\n",
              "\n",
              "      <script>\n",
              "        const buttonEl =\n",
              "          document.querySelector('#df-40c3a15e-8e96-4068-8d64-390144cfe770 button.colab-df-convert');\n",
              "        buttonEl.style.display =\n",
              "          google.colab.kernel.accessAllowed ? 'block' : 'none';\n",
              "\n",
              "        async function convertToInteractive(key) {\n",
              "          const element = document.querySelector('#df-40c3a15e-8e96-4068-8d64-390144cfe770');\n",
              "          const dataTable =\n",
              "            await google.colab.kernel.invokeFunction('convertToInteractive',\n",
              "                                                     [key], {});\n",
              "          if (!dataTable) return;\n",
              "\n",
              "          const docLinkHtml = 'Like what you see? Visit the ' +\n",
              "            '<a target=\"_blank\" href=https://colab.research.google.com/notebooks/data_table.ipynb>data table notebook</a>'\n",
              "            + ' to learn more about interactive tables.';\n",
              "          element.innerHTML = '';\n",
              "          dataTable['output_type'] = 'display_data';\n",
              "          await google.colab.output.renderOutput(dataTable, element);\n",
              "          const docLink = document.createElement('div');\n",
              "          docLink.innerHTML = docLinkHtml;\n",
              "          element.appendChild(docLink);\n",
              "        }\n",
              "      </script>\n",
              "    </div>\n",
              "  </div>\n",
              "  "
            ]
          },
          "metadata": {},
          "execution_count": 9
        }
      ]
    },
    {
      "cell_type": "code",
      "source": [
        "T_En = pd.DataFrame(T_Eng[\"English words/sentences\"].unique()).rename(columns = {0:'English Words'})\n",
        "print(T_En)"
      ],
      "metadata": {
        "colab": {
          "base_uri": "https://localhost:8080/"
        },
        "id": "AOkksKCMn5Sb",
        "outputId": "19586cc7-8cff-4be8-9a5a-3b4565172f0c"
      },
      "execution_count": 10,
      "outputs": [
        {
          "output_type": "stream",
          "name": "stdout",
          "text": [
            "                                            English Words\n",
            "0                                                     Hi.\n",
            "1                                                    Run!\n",
            "2                                                    Who?\n",
            "3                                                    Wow!\n",
            "4                                                   Fire!\n",
            "...                                                   ...\n",
            "123095  Top-down economics never works, said Obama. \"T...\n",
            "123096  A carbon footprint is the amount of carbon dio...\n",
            "123097  Death is something that we're often discourage...\n",
            "123098  Since there are usually multiple websites on a...\n",
            "123099  If someone who doesn't know your background sa...\n",
            "\n",
            "[123100 rows x 1 columns]\n"
          ]
        }
      ]
    },
    {
      "cell_type": "code",
      "source": [
        "T_En[\"English Words\"] = T_En[\"English Words\"].str.replace(\"[^a-zA-Z0-9]\", \" \") \n",
        "T_En[\"English Words\"]"
      ],
      "metadata": {
        "colab": {
          "base_uri": "https://localhost:8080/"
        },
        "id": "-wRID-2Jn7hb",
        "outputId": "41a3d936-b501-47df-835d-75c320b889bc"
      },
      "execution_count": 11,
      "outputs": [
        {
          "output_type": "stream",
          "name": "stderr",
          "text": [
            "/usr/local/lib/python3.7/dist-packages/ipykernel_launcher.py:1: FutureWarning: The default value of regex will change from True to False in a future version.\n",
            "  \"\"\"Entry point for launching an IPython kernel.\n"
          ]
        },
        {
          "output_type": "execute_result",
          "data": {
            "text/plain": [
              "0                                                       Hi \n",
              "1                                                      Run \n",
              "2                                                      Who \n",
              "3                                                      Wow \n",
              "4                                                     Fire \n",
              "                                ...                        \n",
              "123095    Top down economics never works  said Obama   T...\n",
              "123096    A carbon footprint is the amount of carbon dio...\n",
              "123097    Death is something that we re often discourage...\n",
              "123098    Since there are usually multiple websites on a...\n",
              "123099    If someone who doesn t know your background sa...\n",
              "Name: English Words, Length: 123100, dtype: object"
            ]
          },
          "metadata": {},
          "execution_count": 11
        }
      ]
    },
    {
      "cell_type": "code",
      "source": [
        "T_En[\"English Words\"].head(10)"
      ],
      "metadata": {
        "colab": {
          "base_uri": "https://localhost:8080/"
        },
        "id": "qdvnk9E7n99v",
        "outputId": "5326ca1e-2d4b-4123-9c6f-d49d40f6834c"
      },
      "execution_count": 13,
      "outputs": [
        {
          "output_type": "execute_result",
          "data": {
            "text/plain": [
              "0       Hi \n",
              "1      Run \n",
              "2      Who \n",
              "3      Wow \n",
              "4     Fire \n",
              "5     Help \n",
              "6     Jump \n",
              "7     Stop \n",
              "8     Wait \n",
              "9    Go on \n",
              "Name: English Words, dtype: object"
            ]
          },
          "metadata": {},
          "execution_count": 13
        }
      ]
    },
    {
      "cell_type": "markdown",
      "source": [
        "Translate each word or sentence from English to French"
      ],
      "metadata": {
        "id": "I54BZ4A1oBE_"
      }
    },
    {
      "cell_type": "code",
      "source": [
        "def word_translate(rev):\n",
        "    translation_tokenized = GoogleTranslator(source='english', target='fr').translate(rev)\n",
        "    return translation_tokenized"
      ],
      "metadata": {
        "id": "76urZWqloEjx"
      },
      "execution_count": 14,
      "outputs": []
    },
    {
      "cell_type": "markdown",
      "source": [
        "Translate each word from English to French. Displaying 50 words"
      ],
      "metadata": {
        "id": "mHfKXfyboRar"
      }
    },
    {
      "cell_type": "code",
      "source": [
        "Trans_French_Words = [word_translate(r) for r in Trans_En[\"English Words\"].head(100)]\n",
        "Trans_French_Words"
      ],
      "metadata": {
        "colab": {
          "base_uri": "https://localhost:8080/"
        },
        "id": "ABntsobKoSmW",
        "outputId": "948dfb2c-4e3d-4ff7-fe0a-a6543d7c10c8"
      },
      "execution_count": 20,
      "outputs": [
        {
          "output_type": "execute_result",
          "data": {
            "text/plain": [
              "['Salut',\n",
              " 'Courir',\n",
              " 'Qui',\n",
              " 'Ouah',\n",
              " 'Feu',\n",
              " 'Aider',\n",
              " 'Saut',\n",
              " 'Arrêt',\n",
              " 'Attendre',\n",
              " 'Continue',\n",
              " 'Bonjour',\n",
              " 'Je vois',\n",
              " \"J'essaye\",\n",
              " \"J'ai gagné\",\n",
              " \"J'ai gagné\",\n",
              " 'Oh non',\n",
              " 'Attaque',\n",
              " 'Acclamations',\n",
              " 'Se lever',\n",
              " 'Allez maintenant',\n",
              " \"J'ai compris\",\n",
              " \"J'ai compris\",\n",
              " 'Monter dedans',\n",
              " 'Donne moi un câlin',\n",
              " 'je suis tombé',\n",
              " 'je sais',\n",
              " 'Je suis parti',\n",
              " \"j'ai menti\",\n",
              " \"J'ai perdu\",\n",
              " \"j'ai payé\",\n",
              " \"J'ai 19 ans\",\n",
              " 'Je vais bien',\n",
              " 'Ecoutez',\n",
              " 'Certainement pas',\n",
              " 'Vraiment',\n",
              " 'Merci',\n",
              " 'Nous essayons',\n",
              " 'Nous avons gagné',\n",
              " 'Demander à Tom',\n",
              " 'Impressionnant',\n",
              " 'Sois calme',\n",
              " 'Soit cool',\n",
              " 'Être juste',\n",
              " 'Etre gentil',\n",
              " 'Sois gentil',\n",
              " 'Batte-le',\n",
              " 'Appelez-moi',\n",
              " 'Appelez-nous',\n",
              " 'Entrez',\n",
              " 'Allez',\n",
              " 'Allez',\n",
              " 'Laisse tomber',\n",
              " 'Obtenez Tom',\n",
              " 'Sortir',\n",
              " 'Sortir',\n",
              " \"S'en aller\",\n",
              " \"S'en aller\",\n",
              " 'rentrer chez soi',\n",
              " 'Va lentement',\n",
              " 'Au revoir',\n",
              " 'Attendez',\n",
              " 'Attendez',\n",
              " 'Il quitte',\n",
              " 'Il court',\n",
              " 'Aide-moi',\n",
              " 'Aide-moi',\n",
              " 'Aidez nous',\n",
              " 'Le tenir',\n",
              " 'Tenir',\n",
              " 'Câlin à Tom',\n",
              " \"Je suis d'accord\",\n",
              " \"j'ai pleuré\",\n",
              " 'je me suis assoupi',\n",
              " 'je conduis',\n",
              " 'je fume',\n",
              " 'je ronfle',\n",
              " 'je pue',\n",
              " 'je me tenais',\n",
              " \"j'ai juré\",\n",
              " \"j'ai essayé\",\n",
              " \"j'ai agité\",\n",
              " \"J'y vais\",\n",
              " 'Je suis Tom',\n",
              " 'Je suis gros',\n",
              " 'Je suis mince',\n",
              " 'Je suis touché',\n",
              " 'Je suis malade',\n",
              " 'Je suis triste',\n",
              " 'Je suis timide',\n",
              " 'Je suis trempé',\n",
              " \"C'est moi\",\n",
              " 'Rejoignez-nous',\n",
              " 'Garde le',\n",
              " 'Embrasse-moi',\n",
              " 'Moi aussi',\n",
              " \"S'ouvrir\",\n",
              " 'Parfait',\n",
              " 'À plus tard',\n",
              " 'À plus tard',\n",
              " 'Montre moi']"
            ]
          },
          "metadata": {},
          "execution_count": 20
        }
      ]
    },
    {
      "cell_type": "markdown",
      "source": [
        "Translate each sentence from English to French. Displaying 50 sentences"
      ],
      "metadata": {
        "id": "VaQ35ayHocLE"
      }
    },
    {
      "cell_type": "code",
      "source": [
        "T_Fr_Sent = [word_translate(r) for r in T_En[\"English Words\"].tail(100)]\n",
        "T_Fr_Sent"
      ],
      "metadata": {
        "colab": {
          "base_uri": "https://localhost:8080/"
        },
        "id": "78Kzls6ioVws",
        "outputId": "06e8facd-69cf-4cbc-c7fe-b3813cb6d36c"
      },
      "execution_count": 21,
      "outputs": [
        {
          "output_type": "execute_result",
          "data": {
            "text/plain": [
              "[\"La police soupçonnait qu'il y avait un lien entre la voiture abandonnée et le cadavre retrouvé à trois miles de là\",\n",
              " \"Les questions sont venues rapidement et furieusement du grand nombre de journalistes qui s'étaient rassemblés devant le palais de justice\",\n",
              " \"Quelques personnes ont mentionné qu'elles aimeraient assister à certaines sessions plus tard dans la journée sur l'ordre du jour de la session technique\",\n",
              " 'Considérez les succès obtenus par des personnes fatiguées et découragées qui ont décidé de réessayer',\n",
              " \"Je sais qu'il est très peu probable que tu veuilles sortir avec moi, mais je dois quand même demander au moins une fois\",\n",
              " \"L'homme qui ne fait qu'une seule erreur par an parce qu'il ne prend que deux décisions se trompe cinquante pour cent du temps\",\n",
              " \"Je sais que tu es contrarié que ta voiture ait été détruite, mais tu n'as pas été blessé et tu devrais être reconnaissant d'être en vie\",\n",
              " \"J'aimerais parfois pouvoir vivre une vie tranquille à la retraite, mais je doute que je puisse le supporter plus de quelques jours\",\n",
              " \"Si vous décidez de répondre aux questions maintenant sans la présence d'un avocat, vous avez le droit d'arrêter de répondre à tout moment\",\n",
              " \"Saviez-vous qu'au Japon, si vous avez un tatouage, vous ne serez pas autorisé à vous baigner dans de nombreuses stations thermales ?\",\n",
              " \"Des témoins ont déclaré à la police que le train dépassait largement la limite de vitesse lorsqu'il a déraillé dans un virage\",\n",
              " \"Il est enclin à tout regarder du point de vue de son côté pratique et n'est ni avare ni extravagant\",\n",
              " \"Quelqu'un m'a dit qu'Albert Einstein disait que le bon sens est l'ensemble des préjugés acquis à l'âge de dix-huit ans\",\n",
              " \"Chaque fois que je fais une erreur, j'apprends quelque chose Le défi n'est pas de refaire sans cesse les mêmes erreurs\",\n",
              " \"Faire passer votre message est beaucoup plus important que d'essayer de le dire exactement comme le dirait un locuteur natif\",\n",
              " \"Je me sentais mal alors j'ai été admis à l'hôpital Cependant, il s'est avéré qu'il n'y avait rien de vraiment mal avec moi\",\n",
              " \"J'avais hâte de voir une vue panoramique sur le mont Fuji, mais malheureusement, il était complètement caché derrière les nuages\",\n",
              " \"J'ai fait une réservation dans un débit de boissons près de la gare de Shinjuku C'est tout ce que vous pouvez boire pendant 2 heures pour 2 500 yens\",\n",
              " \"Il n'y a pas si longtemps, nous avons entendu un père dire en présence de sa famille nombreuse Je ne veux pas qu'aucun de mes garçons soit avocat.\",\n",
              " 'Remarquez les mains des personnes que vous rencontrez et vous serez surpris de voir à quel point elles sont différentes et intéressantes.',\n",
              " \"Plus de 100 tonnes de particules de la taille de la poussière et du sable bombardent la terre chaque jour depuis l'espace, dont la plupart passent inaperçues\",\n",
              " \"La police a dessiné le contour d'un corps sur les lieux du crime pour indiquer comment le corps gisait lorsqu'il a été retrouvé\",\n",
              " \"C'est une période de l'année où les gens se réunissent avec leur famille et leurs amis pour observer la Pâque et célébrer Pâques\",\n",
              " \"Un homme s'est posé sur la lune Un mur s'est effondré à Berlin Un monde était relié par notre propre science et imagination\",\n",
              " 'Être heureux ne signifie pas que tout est parfait mais plutôt que vous avez décidé de regarder au-delà des imperfections',\n",
              " \"Charles Moore a créé Forth dans le but d'augmenter la productivité des programmeurs sans sacrifier l'efficacité de la machine\",\n",
              " \"Le Dr Zamenhof pensait qu'une langue appartenait aux personnes qui la parlaient, c'est pourquoi il n'a jamais protégé l'espéranto.\",\n",
              " \"Chaque étudiant diplômé de notre université a étudié l'anglais avec un locuteur natif pendant au moins deux ans\",\n",
              " \"Si vous ne voulez pas mettre de crème solaire, c'est votre problème. Ne venez pas vous plaindre quand vous attrapez un coup de soleil.\",\n",
              " \"Personne ne vous a demandé d'être d'accord, mais ne pouvez-vous pas au moins accepter qu'il y ait des gens qui ont des opinions différentes de vous\",\n",
              " \"Les gens se sont rassemblés autour du blessé mais ils ont fait place au médecin lorsqu'il est arrivé sur les lieux de l'accident\",\n",
              " \"Quand j'étudiais pour devenir avocat, mes professeurs m'ont dit de ne jamais poser une question dont je ne connaissais pas la réponse.\",\n",
              " 'Une chance de faire ce que nous voulons, en particulier de faire le moins de travail possible, est un désir secret de presque tout le monde',\n",
              " \"Même si les programmeurs informatiques peuvent utiliser des points-virgules tous les jours de nos jours, la plupart des gens n'utilisent des points-virgules que pour les émoticônes\",\n",
              " \"Je n'avais jamais mangé de nourriture thaïlandaise, alors j'étais assez excitée à l'idée d'aller dans un restaurant thaïlandais avec ma grand-mère.\",\n",
              " 'Depuis que je suis ce régime, mon poids a diminué, mon cholestérol a diminué et mon apnée du sommeil a complètement disparu.',\n",
              " \"Quand est-ce que ta sœur rentre du travail je ne sais pas mais je pense qu'elle arrivera à la maison quelques minutes avant moi\",\n",
              " 'Un avantage certain des portes automatiques est que les gens ne peuvent pas propager leurs maladies contagieuses en touchant les poignées de porte.',\n",
              " \"Ne choisissez jamais une vocation simplement parce que vos amis y sont, ni n'en refusez une autre simplement parce que votre pire ennemi y est\",\n",
              " \"La couleur verte est souvent associée à l'argent et au monde de la finance car les billets de banque dans de nombreux pays sont verts\",\n",
              " \"Lorsque nous entendons parler d'un divorce, nous supposons qu'il a été causé par l'incapacité de ces deux personnes à s'entendre sur les principes fondamentaux.\",\n",
              " \"Un ami avec qui je suis allé lors de notre premier voyage à l'étranger s'est fait voler son portefeuille, je ne pense pas que cela ait laissé une très bonne impression\",\n",
              " \"Même maintenant, je pense parfois que j'aimerais te voir Pas le toi que tu es aujourd'hui mais le toi dont je me souviens du passé\",\n",
              " \"Il a l'air d'un doux en surface, mais au fond, il a une volonté de fer qui fait de lui un négociateur extrêmement coriace.\",\n",
              " \"J'ai ouvert de nombreux comptes Facebook et Twitter depuis 2008 J'ai maintenant six comptes Facebook et quinze comptes Twitter\",\n",
              " \"La police exhorte les gens à ne pas prendre d'auto-stoppeurs alors qu'ils recherchent deux prisonniers en fuite après s'être évadés de prison\",\n",
              " 'Nous devrions passer notre temps à créer du contenu pour notre site Web plutôt que de perdre du temps à nous soucier de détails cosmétiques mineurs',\n",
              " \"Beaucoup de gens qui jusqu'à présent dépensaient de l'argent en s'amusant doivent maintenant faire plus attention à leur argent\",\n",
              " 'Pour le crime de meurtre au premier degré, ce tribunal vous condamne par la présente à la prison à vie sans possibilité de libération conditionnelle',\n",
              " 'Il est très facile de paraître naturel dans votre propre langue maternelle et très facile de ne pas paraître naturel dans votre langue non maternelle',\n",
              " \"Ma mère m'a toujours dit que je devais mettre de l'argent à la banque tous les mois pour avoir assez d'argent en cas d'urgence\",\n",
              " 'La différence entre le mot juste et presque le mot juste est la différence entre la foudre et le bogue de la foudre',\n",
              " 'Nous voyons avec nos yeux nous entendons avec nos oreilles nous touchons avec notre peau nous sentons avec notre nez et nous goûtons avec notre langue',\n",
              " \"Si vous ne prenez pas de petit-déjeuner, vous aurez probablement faim le matin et vous ne serez pas aussi efficace au travail que vous pourriez l'être.\",\n",
              " \"L'un des avantages d'être vieux est que vous ne désirez plus toutes les choses que vous ne pouviez pas vous permettre d'acheter quand vous étiez jeune.\",\n",
              " \"Je regardais beaucoup cet anime quand j'étais enfant mais je ne me souviens pas très bien de ce qui est arrivé au héros dans l'épisode final\",\n",
              " \"Dans le même laps de temps qu'il me faudrait pour corriger toutes les erreurs de votre rapport, je pourrais écrire un meilleur rapport moi-même\",\n",
              " 'La langue anglaise est sans aucun doute le moyen de communication internationale le plus simple et en même temps le plus efficace.',\n",
              " \"Je pensais avoir payé les frais mensuels mais j'ai reçu un appel téléphonique de l'école disant que la facture devait encore être payée\",\n",
              " 'Une bonne relation repose sur deux grands principes. Premièrement, appréciez vos similitudes et deuxièmement, respectez vos différences.',\n",
              " 'Selon le contrat, vous pouvez prendre trois jours de congé de deuil pour les funérailles de votre oncle mais un seul pour les funérailles de votre neveu.',\n",
              " \"Les prix des denrées alimentaires sont à leur plus haut niveau depuis que l'Organisation des Nations Unies pour l'alimentation et l'agriculture a commencé à tenir des registres en 1990\",\n",
              " \"Si on a le droit de vivre alors on devrait aussi avoir le droit de mourir Sinon alors vivre n'est pas un droit mais une obligation\",\n",
              " \"C'était déjà assez grave qu'il arrive généralement au travail tard, mais arriver ivre était la goutte d'eau et je vais devoir le laisser partir\",\n",
              " \"L'enseignante qui surveillait la cour de récréation s'est inquiétée lorsqu'elle a vu un homme parler à certains des enfants par-dessus la clôture de l'école\",\n",
              " 'Les villes et les provinces situées le long du fleuve Yangtze, dans le centre de la Chine, sont aux prises avec la pire sécheresse du pays depuis plus de 50 ans',\n",
              " \"Cette proposition peut être un moyen de faire d'une pierre deux coups, mais nous devons également faire attention à ne pas devenir gourmand et tout gâcher.\",\n",
              " 'Un comité est un groupe de personnes qui individuellement ne peuvent rien faire mais qui, en tant que groupe, peuvent se réunir et décider que rien ne peut être fait',\n",
              " \"Mon petit-déjeuner se compose généralement de café au lait un morceau de pain et de confiture une petite banane un morceau d'orange et quelques prunes séchées\",\n",
              " \"L'une des meilleures façons de nous aider est de traduire d'une langue étrangère que vous connaissez vers votre propre langue maternelle ou votre langue la plus forte.\",\n",
              " \"Comme il va bientôt faire froid, il pourrait être agréable de faire quelque chose à l'extérieur les derniers jours chauds que nous avons avant que l'hiver ne s'installe.\",\n",
              " \"Les gens ont tendance à ne vous complimenter sur vos compétences linguistiques que lorsqu'il est évident que vous n'avez toujours pas l'air d'un locuteur natif.\",\n",
              " \"Un homme qui n'est jamais allé à l'école peut voler un wagon de marchandises, mais s'il a fait des études universitaires, il peut voler tout le chemin de fer.\",\n",
              " \"Qu'est-ce que la vieillesse D'abord vous oubliez les noms puis vous oubliez les visages puis vous oubliez de remonter votre fermeture éclair puis vous oubliez de la baisser\",\n",
              " \"Lui et moi avons une compréhension quasi télépathique l'un de l'autre Dès que l'un de nous dit quelque chose, l'autre répond déjà\",\n",
              " \"Bien que les forêts tropicales ne représentent que 2 % de la surface de la terre, plus de la moitié des espèces sauvages d'animaux et d'insectes du monde y vivent.\",\n",
              " 'Elle a un petit ami avec qui elle sort depuis le lycée mais elle sent que leur relation a stagné alors elle est insatisfaite',\n",
              " \"Si vous emmenez un enfant dehors et pointez la lune, l'enfant regardera la lune Si vous faites la même chose avec un chien, il regardera votre doigt\",\n",
              " \"Si vous traduisez de votre deuxième langue vers votre propre langue maternelle plutôt que l'inverse, vous êtes moins susceptible de faire des erreurs\",\n",
              " \"J'adore essayer de nouvelles choses, donc j'achète toujours les produits dès qu'ils arrivent dans les rayons des magasins Bien sûr, la moitié du temps, je finis par souhaiter ne pas l'avoir fait\",\n",
              " \"Une bonne théorie se caractérise par le fait qu'elle fait un certain nombre de prédictions qui pourraient en principe être réfutées ou falsifiées par l'observation\",\n",
              " \"Une planète semblable à la Terre, dont on pense qu'elle a des conditions propices à la vie telle que nous la connaissons, a été découverte à 500 années-lumière de la Terre\",\n",
              " 'Plus vous passez de temps à parler une langue étrangère, mieux vous arrivez à deviner ce que des locuteurs non natifs essaient de dire dans votre propre langue',\n",
              " \"L'enquête a conclu que malgré ses démentis, le directeur général aurait dû être au courant des pratiques illégales en cours dans l'entreprise.\",\n",
              " \"Le père de Roger Miller est mort alors qu'il n'avait qu'un an et sa mère est tombée malade peu de temps après, il a donc été envoyé vivre avec son oncle à Erick Oklahoma\",\n",
              " \"Vous n'apprendrez peut-être pas à parler aussi bien qu'un locuteur natif, mais vous devriez être capable de parler suffisamment bien pour que les locuteurs natifs comprennent ce que vous avez à dire.\",\n",
              " \"Et la bonne nouvelle, c'est qu'aujourd'hui l'économie est à nouveau en croissance.\",\n",
              " \"Les cigarettes électroniques sont promues comme une alternative saine aux cigarettes de tabac, mais les autorités sanitaires s'inquiètent des effets à long terme sur la santé des utilisateurs\",\n",
              " \"Il est encore trop difficile de trouver un emploi Et même si vous avez des chances d'obtenir un emploi, vous avez plus de mal à payer les coûts croissants de tout, de l'épicerie à l'essence\",\n",
              " \"Même à la fin du XIXe siècle, les marins de la marine britannique n'étaient pas autorisés à utiliser des couteaux et des fourchettes car leur utilisation était considérée comme un signe de faiblesse.\",\n",
              " \"Cinq tremblements de magnitude supérieure à 5 0 sur l'échelle de Richter ont secoué le Japon cette semaine, mais les scientifiques préviennent que la plus grande réplique attendue n'a pas encore frappé\",\n",
              " \"Peu importe à quel point vous essayez de convaincre les gens que le chocolat est de la vanille, ce sera toujours du chocolat, même si vous parvenez à vous convaincre, ainsi que quelques autres, que c'est de la vanille.\",\n",
              " \"Un enfant qui est un locuteur natif sait généralement beaucoup de choses sur sa langue qu'un locuteur non natif qui étudie depuis des années ne sait toujours pas et ne saura peut-être jamais\",\n",
              " \"Il existe quatre causes principales de décès liés à l'alcool. Les blessures causées par des accidents de voiture ou la violence en sont une. Des maladies comme la cirrhose du foie, le cancer du cœur et les maladies du système sanguin sont les autres.\",\n",
              " \"Nous devons faire respecter les lois contre la discrimination à l'embauche, au logement, à l'éducation et dans le système de justice pénale C'est ce que notre Constitution et nos idéaux les plus élevés exigent\",\n",
              " \"L'économie descendante ne fonctionne jamais, a déclaré Obama Le pays ne réussit pas lorsque seuls ceux qui sont au sommet se portent bien Nous réussissons lorsque la classe moyenne s'agrandit lorsqu'elle se sent plus en sécurité\",\n",
              " \"Une empreinte carbone est la quantité de dioxyde de carbone que nous produisons à la suite de nos activités Certaines personnes essaient de réduire leur empreinte carbone parce qu'elles sont préoccupées par le changement climatique\",\n",
              " \"La mort est quelque chose dont nous sommes souvent découragés de parler ou même de penser, mais j'ai réalisé que se préparer à la mort est l'une des choses les plus stimulantes que vous puissiez faire Penser à la mort clarifie votre vie\",\n",
              " \"Comme il existe généralement plusieurs sites Web sur un sujet donné, je clique généralement sur le bouton de retour lorsque j'arrive sur une page Web contenant des publicités contextuelles. Je vais simplement à la page suivante trouvée par Google et j'espère quelque chose de moins irritant.\",\n",
              " \"Si quelqu'un qui ne connaît pas vos antécédents dit que vous parlez comme un locuteur natif, cela signifie qu'il a probablement remarqué quelque chose dans votre façon de parler qui lui a fait réaliser que vous n'étiez pas un locuteur natif. En d'autres termes, vous ne parlez pas vraiment comme un locuteur natif.\"]"
            ]
          },
          "metadata": {},
          "execution_count": 21
        }
      ]
    },
    {
      "cell_type": "markdown",
      "source": [
        "Translate each word or sentence from English to German"
      ],
      "metadata": {
        "id": "_oQ5LlF3olLj"
      }
    },
    {
      "cell_type": "code",
      "source": [
        "def T_word_De(rev):\n",
        "    translation_tokenized = GoogleTranslator(source='english', target='de').translate(rev)\n",
        "    return translation_tokenized"
      ],
      "metadata": {
        "id": "vfwyxCt-osEx"
      },
      "execution_count": 22,
      "outputs": []
    },
    {
      "cell_type": "markdown",
      "source": [
        "Translate each word from English to German. Displaying 50 words"
      ],
      "metadata": {
        "id": "KzSrf5DgoyFR"
      }
    },
    {
      "cell_type": "code",
      "source": [
        "T_German_Words = [T_word_De(r) for r in T_En[\"English Words\"].head(100)]\n",
        "T_German_Words"
      ],
      "metadata": {
        "colab": {
          "base_uri": "https://localhost:8080/"
        },
        "id": "wPLo9-0xoyz3",
        "outputId": "66480bc6-4755-4923-e605-a9b6628a5fdb"
      },
      "execution_count": 26,
      "outputs": [
        {
          "output_type": "execute_result",
          "data": {
            "text/plain": [
              "['Hi',\n",
              " 'Laufen',\n",
              " 'Wer',\n",
              " 'Wow',\n",
              " 'Feuer',\n",
              " 'Hilfe',\n",
              " 'Springen',\n",
              " 'Halt',\n",
              " 'Warte ab',\n",
              " 'Mach weiter',\n",
              " 'Hallo',\n",
              " 'Aha',\n",
              " 'ich versuche',\n",
              " 'ich habe gewonnen',\n",
              " 'ich habe gewonnen',\n",
              " 'Ach nein',\n",
              " 'Attacke',\n",
              " 'Prost',\n",
              " 'Steh auf',\n",
              " 'Geh jetzt',\n",
              " 'Ich habs',\n",
              " 'Ich habs',\n",
              " 'Steigen Sie ein',\n",
              " 'Umarme mich',\n",
              " 'Ich fiel',\n",
              " 'Ich weiss',\n",
              " 'Ich ging weg',\n",
              " 'ich habe gelogen',\n",
              " 'Ich habe verloren',\n",
              " 'ich habe bezahlt',\n",
              " 'Ich bin 19',\n",
              " 'Ich bin OK',\n",
              " 'Hör mal zu',\n",
              " 'Auf keinen Fall',\n",
              " 'Wirklich',\n",
              " 'Vielen Dank',\n",
              " 'Wir versuchen',\n",
              " 'Wir haben gewonnen',\n",
              " 'Frag Tom',\n",
              " 'Genial',\n",
              " 'Ruhig sein',\n",
              " 'Sei cool',\n",
              " 'Sei fair',\n",
              " 'Sei freundlich',\n",
              " 'Sei nett',\n",
              " 'Mach dich vom Acker',\n",
              " 'Ruf mich an',\n",
              " 'Rufen Sie uns an',\n",
              " 'Komm herein',\n",
              " 'Komm schon',\n",
              " 'Komm schon',\n",
              " 'Lass es fallen',\n",
              " 'Hol Tom',\n",
              " 'Geh raus',\n",
              " 'Geh raus',\n",
              " 'Geh weg',\n",
              " 'Geh weg',\n",
              " 'Nach Hause gehen',\n",
              " 'Mach langsam',\n",
              " 'Auf Wiedersehen',\n",
              " 'Abwarten',\n",
              " 'Abwarten',\n",
              " 'Er hat gekündigt',\n",
              " 'Er rennt',\n",
              " 'Hilf mir',\n",
              " 'Hilf mir',\n",
              " 'Hilf uns',\n",
              " 'Halte es',\n",
              " 'Festhalten',\n",
              " 'Umarmung Tom',\n",
              " 'Ich stimme zu',\n",
              " 'Ich heulte',\n",
              " 'Ich döste',\n",
              " 'ich fahre',\n",
              " 'ich rauche',\n",
              " 'ich schnarche',\n",
              " 'ich stinke',\n",
              " 'ich stand',\n",
              " 'Ich schwor',\n",
              " 'Ich habe es versucht',\n",
              " 'ich winkte',\n",
              " 'Ich werde gehen',\n",
              " 'Ich bin Tom',\n",
              " 'Ich bin fett',\n",
              " 'Ich bin Fit',\n",
              " 'Ich bin getroffen',\n",
              " 'Ich bin krank',\n",
              " 'Ich bin traurig',\n",
              " 'Ich bin schüchtern',\n",
              " 'Ich bin nass',\n",
              " 'Da ich bin',\n",
              " 'Begleiten Sie uns',\n",
              " 'Behalte es',\n",
              " 'Küss mich',\n",
              " 'Ich auch',\n",
              " 'Aufmachen',\n",
              " 'Perfekt',\n",
              " \"Mach's gut\",\n",
              " \"Mach's gut\",\n",
              " 'Zeig mir']"
            ]
          },
          "metadata": {},
          "execution_count": 26
        }
      ]
    },
    {
      "cell_type": "markdown",
      "source": [
        "Translate each sentence from English to German. Displaying 50 sentences"
      ],
      "metadata": {
        "id": "JXYHcZd_o89N"
      }
    },
    {
      "cell_type": "code",
      "source": [
        "T_German_Sent = [T_word_De(r) for r in T_En[\"English Words\"].tail(100)]\n",
        "T_German_Sent"
      ],
      "metadata": {
        "colab": {
          "base_uri": "https://localhost:8080/"
        },
        "id": "9ztHxWqgo9np",
        "outputId": "360d75ca-fd13-4d39-f24c-4d56e424742b"
      },
      "execution_count": 27,
      "outputs": [
        {
          "output_type": "execute_result",
          "data": {
            "text/plain": [
              "['Die Polizei vermutete einen Zusammenhang zwischen dem verlassenen Auto und der drei Meilen entfernt gefundenen Leiche',\n",
              " 'Die Fragen kamen schnell und wütend von der großen Zahl von Reportern, die sich vor dem Gerichtsgebäude versammelt hatten',\n",
              " 'Einige Leute erwähnten, dass sie später am Tag an einigen Sitzungen auf der Agenda der technischen Sitzung teilnehmen möchten',\n",
              " 'Betrachten Sie die Erfolge, die von müden, entmutigten Menschen erzielt wurden, die beschlossen, es noch einmal zu versuchen',\n",
              " 'Ich weiß, dass es sehr unwahrscheinlich ist, dass du jemals mit mir ausgehen willst, aber ich muss trotzdem mindestens einmal fragen',\n",
              " 'Der Mann, der nur einen Fehler im Jahr macht, weil er nur zwei Entscheidungen trifft, liegt in fünfzig Prozent der Fälle falsch',\n",
              " 'Ich weiß, dass Sie sich darüber aufregen, dass Ihr Auto einen Totalschaden erlitten hat, aber Sie wurden nicht verletzt und Sie sollten dankbar sein, am Leben zu sein',\n",
              " 'Manchmal wünsche ich mir, ich könnte ein ruhiges, zurückgezogenes Leben führen, aber ich bezweifle, dass ich es länger als ein paar Tage aushalten könnte',\n",
              " 'Wenn Sie sich entscheiden, Fragen jetzt ohne Anwesenheit eines Anwalts zu beantworten, haben Sie das Recht, die Beantwortung jederzeit einzustellen',\n",
              " 'Wussten Sie, dass Sie in Japan, wenn Sie ein Tattoo haben, in vielen Thermalquellen nicht baden dürfen?',\n",
              " 'Zeugen sagten der Polizei, dass der Zug weit über der zulässigen Höchstgeschwindigkeit fuhr, als er in einer Kurve entgleiste',\n",
              " 'Er neigt dazu, alles unter dem Gesichtspunkt der Praktikabilität zu betrachten und ist weder geizig noch extravagant',\n",
              " 'Jemand hat mir erzählt, dass Albert Einstein sagte, der gesunde Menschenverstand sei die Ansammlung von Vorurteilen, die man sich im Alter von achtzehn Jahren aneignet',\n",
              " 'Jedes Mal, wenn ich einen Fehler mache, lerne ich etwas Die Herausforderung besteht darin, nicht immer wieder dieselben Fehler zu machen',\n",
              " 'Es ist viel wichtiger, Ihre Botschaft zu vermitteln, als zu versuchen, sie genau so zu sagen, wie es ein Muttersprachler tun würde',\n",
              " 'Ich fühlte mich schlecht, also wurde ich ins Krankenhaus eingeliefert. Es stellte sich jedoch heraus, dass mit mir nichts wirklich falsch war',\n",
              " 'Ich freute mich darauf, einen malerischen Blick auf den Fuji zu sehen, aber leider war er komplett hinter Wolken verborgen',\n",
              " 'Ich habe in einem Lokal in der Nähe des Bahnhofs Shinjuku reserviert. Es ist alles, was Sie für 2 Stunden für 2 500 Yen trinken können',\n",
              " 'Vor nicht allzu langer Zeit hörten wir einen Vater vor seiner großen Familie sagen: Ich will nicht, dass einer meiner Jungs Anwälte wird',\n",
              " 'Beachten Sie die Hände der Menschen, die Sie treffen, und Sie werden überrascht sein, wie unterschiedlich und wie interessant sie sind',\n",
              " 'Über 100 Tonnen staub- und sandgroße Partikel bombardieren die Erde jeden Tag aus dem Weltraum, von denen die meisten unbemerkt bleiben',\n",
              " 'Die Polizei zeichnete am Tatort einen Umriss einer Leiche, um zu zeigen, wie die Leiche lag, als sie gefunden wurde',\n",
              " 'Dies ist eine Zeit des Jahres, in der sich die Menschen mit Familie und Freunden treffen, um Pessach zu feiern und Ostern zu feiern',\n",
              " 'Ein Mann landete auf dem Mond Eine Mauer stürzte in Berlin ein Eine Welt wurde durch unsere eigene Wissenschaft und Vorstellungskraft verbunden',\n",
              " 'Glücklich zu sein bedeutet nicht, dass alles perfekt ist, sondern dass Sie sich entschieden haben, über die Unvollkommenheiten hinauszuschauen',\n",
              " 'Charles Moore hat Forth entwickelt, um die Produktivität der Programmierer zu steigern, ohne die Maschineneffizienz zu beeinträchtigen',\n",
              " 'Dr. Zamenhof glaubte, dass eine Sprache den Menschen gehört, die sie sprechen, weshalb er Esperanto nie urheberrechtlich geschützt hat',\n",
              " 'Jeder Absolvent unserer Universität hat mindestens zwei Jahre Englisch bei einem Muttersprachler gelernt',\n",
              " 'Wenn Sie keinen Sonnenschutz auftragen wollen, ist das Ihr Problem. Kommen Sie einfach nicht zu mir, wenn Sie einen Sonnenbrand bekommen',\n",
              " 'Niemand hat Sie gebeten, zuzustimmen, aber können Sie nicht zumindest akzeptieren, dass es Menschen gibt, die andere Ansichten vertreten als Sie?',\n",
              " 'Die Menschen drängten sich um den Verletzten, machten aber dem Arzt Platz, als er die Unfallstelle erreichte',\n",
              " 'Als ich studierte, um Anwalt zu werden, sagten mir meine Lehrer, ich solle niemals eine Frage stellen, auf die ich die Antwort nicht kenne',\n",
              " 'Die Möglichkeit zu tun, was uns gefällt, insbesondere so wenig harte Arbeit wie möglich zu leisten, ist ein geheimer Wunsch von fast jedem',\n",
              " 'Obwohl Computerprogrammierer jeden Tag Semikolons verwenden, verwenden die meisten Leute Semikolons heutzutage nur noch für Emoticons',\n",
              " 'Ich hatte noch nie thailändisches Essen gegessen, also war ich ziemlich aufgeregt, mit meiner Großmutter in ein thailändisches Restaurant zu gehen',\n",
              " 'Seit ich diese Diät mache, ist mein Gewicht gesunken, mein Cholesterinspiegel gesunken und meine Schlafapnoe ist vollständig verschwunden',\n",
              " 'Wann kommt Ihre Schwester von der Arbeit zurück? Ich weiß es nicht, aber ich denke, sie wird ein paar Minuten vor mir zu Hause sein',\n",
              " 'Ein entscheidender Vorteil automatischer Türen ist, dass Menschen ihre ansteckenden Krankheiten nicht durch das Berühren von Türklinken übertragen können',\n",
              " 'Wähle niemals einen Beruf, nur weil deine Freunde darin sind, noch lehne einen anderen ab, nur weil dein schlimmster Feind darin ist',\n",
              " 'Die Farbe Grün wird oft mit Geld und der Finanzwelt in Verbindung gebracht, da Banknoten in vielen Ländern grün sind',\n",
              " 'Wenn wir von einer Scheidung hören, gehen wir davon aus, dass sie durch die Unfähigkeit dieser beiden Menschen verursacht wurde, sich auf grundlegende Dinge zu einigen',\n",
              " 'Einem Freund, mit dem ich auf unserer ersten Auslandsreise war, wurde die Brieftasche gestohlen. Ich glaube nicht, dass es einen sehr guten Eindruck hinterlassen hat',\n",
              " 'Selbst jetzt denke ich gelegentlich, dass ich dich gerne sehen würde. Nicht das, was du heute bist, sondern das, an das ich mich aus der Vergangenheit erinnere',\n",
              " 'An der Oberfläche wirkt er wie ein Softie, aber im Kern hat er einen eisernen Willen, der ihn zu einem äußerst zähen Verhandlungsführer macht',\n",
              " 'Ich habe seit 2008 viele Facebook- und Twitter-Konten eröffnet. Ich habe jetzt sechs Facebook-Konten und fünfzehn Twitter-Konten',\n",
              " 'Die Polizei fordert die Menschen dringend auf, keine Anhalter mitzunehmen, da sie nach zwei Gefangenen auf der Flucht suchen, nachdem sie aus dem Gefängnis geflohen sind',\n",
              " 'Wir sollten unsere Zeit damit verbringen, Inhalte für unsere Website zu erstellen, anstatt Zeit damit zu verschwenden, uns um kleinere kosmetische Details zu kümmern',\n",
              " 'Viele Menschen, die bisher Geld für eine gute Zeit ausgegeben haben, müssen jetzt vorsichtiger mit ihrem Geld umgehen',\n",
              " 'Wegen des Verbrechens des Mordes ersten Grades verurteilt Sie dieses Gericht hiermit zu lebenslanger Haft ohne die Möglichkeit einer Bewährung',\n",
              " 'Es ist sehr einfach, in Ihrer eigenen Muttersprache natürlich zu klingen, und sehr leicht, in Ihrer Nicht-Muttersprache unnatürlich zu klingen',\n",
              " 'Meine Mutter hat mir immer gesagt, dass ich jeden Monat Geld auf die Bank bringen soll, damit ich im Notfall genug Geld habe',\n",
              " 'Der Unterschied zwischen dem richtigen Wort und dem fast richtigen Wort ist der Unterschied zwischen Blitz und Blitzkäfer',\n",
              " 'Wir sehen mit unseren Augen, wir hören mit unseren Ohren, wir berühren mit unserer Haut, wir riechen mit unserer Nase und wir schmecken mit unserer Zunge',\n",
              " 'Wenn Sie nicht frühstücken, werden Sie wahrscheinlich morgens hungrig sein und bei der Arbeit nicht so effizient sein, wie Sie es sein könnten',\n",
              " 'Ein Vorteil des Altseins ist, dass man sich all die Dinge, die man sich in jungen Jahren nicht leisten konnte, nicht mehr wünscht',\n",
              " 'Ich habe diesen Anime oft gesehen, als ich ein Kind war, aber ich kann mich nicht genau erinnern, was mit dem Helden in der letzten Folge passiert ist',\n",
              " 'In der gleichen Zeit, die ich brauchen würde, um alle Fehler in Ihrem Bericht zu korrigieren, könnte ich selbst einen besseren Bericht schreiben',\n",
              " 'Die englische Sprache ist zweifellos das einfachste und zugleich effizienteste Mittel der internationalen Kommunikation',\n",
              " 'Ich dachte, ich hätte die monatliche Gebühr bezahlt, aber ich erhielt einen Anruf von der Schule, dass die Rechnung noch bezahlt werden muss',\n",
              " 'Eine großartige Beziehung basiert auf zwei Hauptprinzipien: Schätzen Sie erstens Ihre Ähnlichkeiten und respektieren Sie zweitens Ihre Unterschiede',\n",
              " 'Laut Vertrag dürfen Sie für die Beerdigung Ihres Onkels drei Tage Trauerurlaub nehmen, für die Beerdigung Ihres Neffen aber nur einen',\n",
              " 'Die Lebensmittelpreise sind auf dem höchsten Stand, seit die Ernährungs- und Landwirtschaftsorganisation der Vereinten Nationen 1990 damit begann, Aufzeichnungen zu führen',\n",
              " 'Wenn man das Recht zu leben hat, sollte man auch das Recht zu sterben haben. Wenn nicht, dann ist das Leben kein Recht, sondern eine Pflicht',\n",
              " 'Es war schon schlimm genug, dass er meistens zu spät zur Arbeit kam, aber betrunken hereinzukommen, war der letzte Strohhalm und ich muss ihn gehen lassen',\n",
              " 'Die Lehrerin, die den Spielplatz beaufsichtigte, wurde besorgt, als sie sah, wie ein Mann über den Schulzaun hinweg mit einigen der Kinder sprach',\n",
              " 'Städte und Provinzen entlang des Jangtse in Zentralchina kämpfen mit der schlimmsten Dürre des Landes seit mehr als 50 Jahren',\n",
              " 'Dieser Vorschlag mag ein Weg sein, zwei Fliegen mit einer Klappe zu schlagen, aber wir müssen auch aufpassen, dass wir nicht gierig werden und alles verderben',\n",
              " 'Ein Komitee ist eine Gruppe von Menschen, die einzeln nichts tun können, die sich aber als Gruppe treffen und entscheiden können, dass nichts getan werden kann',\n",
              " 'Mein Frühstück besteht normalerweise aus Kaffee mit Milch, einem Stück Brot und Marmelade, einer kleinen Banane, einem Stück Orange und getrockneten Pflaumen',\n",
              " 'Eine der besten Möglichkeiten, uns zu helfen, besteht darin, aus einer Fremdsprache, die Sie kennen, in Ihre eigene Muttersprache oder stärkste Sprache zu übersetzen',\n",
              " 'Da es bald kalt wird, könnte es schön sein, die letzten warmen Tage vor dem Wintereinbruch im Freien zu verbringen',\n",
              " 'Menschen neigen dazu, Sie nur dann zu Ihren Sprachkenntnissen zu beglückwünschen, wenn offensichtlich ist, dass Sie immer noch nicht ganz wie ein Muttersprachler klingen',\n",
              " 'Ein Mann, der nie zur Schule gegangen ist, kann einen Güterwagen stehlen, aber wenn er eine Universitätsausbildung hat, kann er die ganze Eisenbahn stehlen',\n",
              " 'Was ist Alter? Zuerst vergisst du Namen, dann vergisst du Gesichter, dann vergisst du, deinen Reißverschluss hochzuziehen, dann vergisst du, ihn herunterzuziehen',\n",
              " 'Er und ich verstehen uns fast telepathisch. Kaum sagt einer von uns etwas, antwortet der andere auch schon',\n",
              " 'Obwohl Regenwälder nur zwei Prozent der Erdoberfläche ausmachen, leben dort über die Hälfte der weltweit wildlebenden Pflanzen-, Tier- und Insektenarten',\n",
              " 'Sie hat einen Freund, mit dem sie seit der High School ausgeht, aber sie hat das Gefühl, dass ihre Beziehung stagniert, also ist sie unzufrieden',\n",
              " 'Wenn Sie ein Kind nach draußen bringen und auf den Mond zeigen, wird das Kind auf den Mond schauen. Wenn Sie dasselbe mit einem Hund tun, wird es auf Ihren Finger schauen',\n",
              " 'Wenn Sie aus Ihrer Zweitsprache in Ihre eigene Muttersprache übersetzen und nicht umgekehrt, ist die Wahrscheinlichkeit geringer, dass Sie Fehler machen',\n",
              " 'Ich liebe es, neue Dinge auszuprobieren, also kaufe ich immer Produkte, sobald sie in die Regale kommen. Natürlich wünsche ich mir die Hälfte der Zeit, ich hätte es nicht getan',\n",
              " 'Eine gute Theorie zeichnet sich dadurch aus, dass sie eine Reihe von Vorhersagen trifft, die durch Beobachtung prinzipiell widerlegt oder falsifiziert werden könnten',\n",
              " 'Ein erdähnlicher Planet, von dem angenommen wird, dass er Bedingungen aufweist, die das Leben, wie wir es kennen, unterstützen würde, wurde 500 Lichtjahre von der Erde entfernt entdeckt',\n",
              " 'Je mehr Zeit Sie damit verbringen, eine Fremdsprache zu sprechen, desto besser können Sie erraten, was Nicht-Muttersprachler versuchen, in Ihrer eigenen Sprache zu sagen',\n",
              " 'Die Untersuchung ergab, dass der Vorstandsvorsitzende trotz seiner Dementis von den illegalen Praktiken im Unternehmen hätte wissen müssen',\n",
              " 'Roger Millers Vater starb, als er nur ein Jahr alt war, und seine Mutter wurde bald darauf krank, sodass er zu seinem Onkel nach Erick, Oklahoma, geschickt wurde',\n",
              " 'Sie lernen vielleicht nicht so gut zu sprechen wie ein Muttersprachler, aber Sie sollten in der Lage sein, so gut zu sprechen, dass Muttersprachler verstehen, was Sie zu sagen haben',\n",
              " 'Und die gute Nachricht ist, dass die Wirtschaft heute wieder wächst. Löhne, Immobilienwerte und Rentenkonten steigen alle wieder. Armut geht wieder zurück',\n",
              " 'E-Zigaretten werden als gesunde Alternative zu Tabakzigaretten beworben, aber die Gesundheitsbehörden sind besorgt über die langfristigen gesundheitlichen Auswirkungen auf die Benutzer',\n",
              " 'Es ist immer noch zu schwer, einen Job zu finden Und selbst wenn Sie einen Job haben, haben Sie es wahrscheinlich schwerer, die steigenden Kosten für Lebensmittel und Benzin zu bezahlen',\n",
              " 'Noch Ende des 19. Jahrhunderts durften Seeleute der britischen Marine Messer und Gabeln nicht benutzen, weil deren Gebrauch als Zeichen von Schwäche galt',\n",
              " 'Fünf Erschütterungen mit einer Stärke von über 50 auf der Richterskala haben Japan erst diese Woche erschüttert, aber Wissenschaftler warnen davor, dass das größte erwartete Nachbeben noch aussteht',\n",
              " 'Egal wie sehr Sie versuchen, die Leute davon zu überzeugen, dass Schokolade Vanille ist, es wird immer noch Schokolade sein, auch wenn Sie es schaffen, sich selbst und ein paar andere davon zu überzeugen, dass es Vanille ist',\n",
              " 'Ein Kind, das Muttersprachler ist, weiß normalerweise viele Dinge über seine Sprache, die ein Nicht-Muttersprachler, der jahrelang studiert hat, noch nicht weiß und vielleicht nie wissen wird',\n",
              " 'Es gibt vier Hauptursachen für alkoholbedingte Todesfälle. Verletzungen durch Autounfälle oder Gewalt sind eine, Krankheiten wie Leberzirrhose, Krebs, Herz- und Blutsystemerkrankungen sind die anderen',\n",
              " 'Wir müssen Gesetze gegen Diskriminierung bei der Einstellung und beim Wohnen, im Bildungswesen und im Strafjustizsystem aufrechterhalten. Das verlangen unsere Verfassung und unsere höchsten Ideale',\n",
              " 'Top-down-Ökonomie funktioniert nie, sagte Obama. Das Land hat keinen Erfolg, wenn es nur den ganz oben gut geht. Wir haben Erfolg, wenn die Mittelschicht größer wird, wenn sie sich sicherer fühlt',\n",
              " 'Ein CO2-Fußabdruck ist die Menge an Kohlendioxidverschmutzung, die wir als Ergebnis unserer Aktivitäten verursachen. Manche Menschen versuchen, ihren CO2-Fußabdruck zu verringern, weil sie sich Sorgen um den Klimawandel machen',\n",
              " 'Der Tod ist etwas, von dem wir oft entmutigt sind, darüber zu sprechen oder auch nur darüber nachzudenken, aber ich habe erkannt, dass die Vorbereitung auf den Tod eines der ermächtigendsten Dinge ist, die Sie tun können. An den Tod zu denken, klärt Ihr Leben',\n",
              " 'Da es normalerweise mehrere Websites zu einem bestimmten Thema gibt, klicke ich normalerweise einfach auf die Schaltfläche „Zurück“, wenn ich auf einer Webseite mit Popup-Werbung ankomme. Ich gehe einfach zur nächsten von Google gefundenen Seite und hoffe auf etwas weniger Irritierendes',\n",
              " 'Wenn jemand, der Ihren Hintergrund nicht kennt, sagt, dass Sie sich wie ein Muttersprachler anhören, bedeutet dies, dass er wahrscheinlich etwas an Ihrem Sprechen bemerkt hat, das ihm klar gemacht hat, dass Sie kein Muttersprachler sind. Mit anderen Worten, Sie klingen nicht wirklich wie ein Muttersprachler']"
            ]
          },
          "metadata": {},
          "execution_count": 27
        }
      ]
    },
    {
      "cell_type": "markdown",
      "source": [
        "Translate each word or sentence from English to Spanish"
      ],
      "metadata": {
        "id": "8VOAyFpopG88"
      }
    },
    {
      "cell_type": "code",
      "source": [
        "def T_word_Es(rev):\n",
        "    translation_tokenized = GoogleTranslator(source='english', target='es').translate(rev)\n",
        "    return translation_tokenized"
      ],
      "metadata": {
        "id": "2k9JYrJupJXN"
      },
      "execution_count": 28,
      "outputs": []
    },
    {
      "cell_type": "markdown",
      "source": [
        "Translate each word from English to Spanish. Displaying 50 words"
      ],
      "metadata": {
        "id": "RXS163IXpSkg"
      }
    },
    {
      "cell_type": "code",
      "source": [
        "T_esp_Words = [T_word_Es(r) for r in T_En[\"English Words\"].head(100)]\n",
        "T_esp_Words"
      ],
      "metadata": {
        "colab": {
          "base_uri": "https://localhost:8080/"
        },
        "id": "ua8G8hPxpT-H",
        "outputId": "37dacdd1-6bfb-44ad-c042-bf85e40be6ec"
      },
      "execution_count": 30,
      "outputs": [
        {
          "output_type": "execute_result",
          "data": {
            "text/plain": [
              "['Hola',\n",
              " 'Correr',\n",
              " 'Quién',\n",
              " 'Guau',\n",
              " 'Fuego',\n",
              " 'Ayuda',\n",
              " 'Salto',\n",
              " 'Deténgase',\n",
              " 'Esperar',\n",
              " 'Continuar',\n",
              " 'Hola',\n",
              " 'ya veo',\n",
              " 'lo intento',\n",
              " 'gané',\n",
              " 'gané',\n",
              " 'Oh, no',\n",
              " 'Ataque',\n",
              " 'Salud',\n",
              " 'Levantarse',\n",
              " 'Ve ahora',\n",
              " 'Entiendo',\n",
              " 'Entiendo',\n",
              " 'súbete',\n",
              " 'Abrázame',\n",
              " 'Me caí',\n",
              " 'lo sé',\n",
              " 'me fui',\n",
              " 'mentí',\n",
              " 'perdí',\n",
              " 'He pagado',\n",
              " 'Tengo 19',\n",
              " 'Estoy bien',\n",
              " 'Escuchar',\n",
              " 'De ninguna manera',\n",
              " 'En realidad',\n",
              " 'Gracias',\n",
              " 'Intentamos',\n",
              " 'Ganamos',\n",
              " 'preguntale a tom',\n",
              " 'Impresionante',\n",
              " 'Estate calmado',\n",
              " 'Relájate',\n",
              " 'Sé justo',\n",
              " 'Se amable',\n",
              " 'Se bueno',\n",
              " 'Batirlo',\n",
              " 'Llámame',\n",
              " 'Llámanos',\n",
              " 'Adelante',\n",
              " 'Vamos',\n",
              " 'Vamos',\n",
              " 'Déjalo caer',\n",
              " 'conseguir tom',\n",
              " 'Salir',\n",
              " 'Salir',\n",
              " 'Vete',\n",
              " 'Vete',\n",
              " 'Vete a casa',\n",
              " 'Ve lento',\n",
              " 'Adiós',\n",
              " 'Aférrate',\n",
              " 'Aférrate',\n",
              " 'El lo dejó',\n",
              " 'El corre',\n",
              " 'Ayúdame',\n",
              " 'Ayúdame',\n",
              " 'Ayúdanos',\n",
              " 'aguantalo',\n",
              " 'Esperar',\n",
              " 'abrazo tom',\n",
              " 'Estoy de acuerdo',\n",
              " 'lloré',\n",
              " 'yo dormitaba',\n",
              " 'conduzco',\n",
              " 'yo fumo',\n",
              " 'yo ronco',\n",
              " 'Apesto',\n",
              " 'Me paré',\n",
              " 'lo jure',\n",
              " 'Lo intenté',\n",
              " 'Saludé',\n",
              " 'Iré',\n",
              " 'Soy Tom',\n",
              " 'Estoy gordo',\n",
              " 'Estoy en forma',\n",
              " 'Estoy golpeado',\n",
              " 'Estoy enfermo',\n",
              " 'Estoy triste',\n",
              " 'Soy tímido',\n",
              " 'Estoy mojado',\n",
              " 'Soy yo',\n",
              " 'Únete a nosotros',\n",
              " 'Quédatelo',\n",
              " 'Besame',\n",
              " 'Yo también',\n",
              " 'Abrir',\n",
              " 'Perfecto',\n",
              " 'Nos vemos',\n",
              " 'Nos vemos',\n",
              " 'Muéstrame']"
            ]
          },
          "metadata": {},
          "execution_count": 30
        }
      ]
    },
    {
      "cell_type": "markdown",
      "source": [
        "Translate each sentence from English to Spanish. Displaying 50 sentences"
      ],
      "metadata": {
        "id": "vFXINs1BpcH8"
      }
    },
    {
      "cell_type": "code",
      "source": [
        "T_esp_Sent = [T_word_Es(r) for r in T_En[\"English Words\"].tail(100)]\n",
        "T_esp_Sent"
      ],
      "metadata": {
        "colab": {
          "base_uri": "https://localhost:8080/"
        },
        "id": "XTa6J6topeWL",
        "outputId": "fc9a42c3-6658-4957-c2e4-621249a2dc3c"
      },
      "execution_count": 31,
      "outputs": [
        {
          "output_type": "execute_result",
          "data": {
            "text/plain": [
              "['La policía sospechó que había una conexión entre el automóvil abandonado y el cadáver encontrado a tres millas de distancia.',\n",
              " 'Las preguntas surgieron rápidas y furiosas de la gran cantidad de reporteros que se habían reunido fuera del juzgado.',\n",
              " 'Algunas personas mencionaron que les gustaría asistir a algunas sesiones más tarde en el día sobre la agenda de la sesión técnica.',\n",
              " 'Considere los éxitos que han logrado las personas cansadas y desanimadas que decidieron intentarlo una vez más.',\n",
              " 'Sé que es muy poco probable que alguna vez quieras salir conmigo, pero aún así necesito preguntártelo al menos una vez.',\n",
              " 'El hombre que comete solo un error al año porque toma solo dos decisiones se equivoca el cincuenta por ciento del tiempo',\n",
              " 'Sé que estás molesto porque tu auto fue destrozado, pero no resultaste herido y deberías estar agradecido de estar vivo.',\n",
              " 'A veces desearía poder vivir una vida tranquila y retirada, pero dudo que pueda soportarlo por más de unos pocos días.',\n",
              " 'Si decide responder preguntas ahora sin la presencia de un abogado, tiene derecho a dejar de responder en cualquier momento.',\n",
              " '¿Sabías que en Japón si tienes un tatuaje no te permitirán bañarte en muchos de los balnearios de aguas termales?',\n",
              " 'Los testigos dijeron a la policía que el tren viajaba muy por encima del límite de velocidad cuando descarriló al tomar una curva.',\n",
              " 'Se inclina a mirar todo desde el punto de vista práctico y no es tacaño ni extravagante.',\n",
              " 'Alguien me dijo que Albert Einstein dijo que el sentido común es el conjunto de prejuicios adquiridos a los dieciocho años.',\n",
              " 'Cada vez que me equivoco aprendo algo El reto no es seguir cometiendo los mismos errores una y otra vez',\n",
              " 'Transmitir su mensaje es mucho más importante que tratar de decirlo exactamente como lo diría un hablante nativo.',\n",
              " 'Me sentí mal, así que me internaron en el hospital. Sin embargo, resultó que no me pasaba nada malo.',\n",
              " 'Tenía muchas ganas de ver una vista panorámica del monte Fuji, pero desafortunadamente estaba completamente escondido detrás de las nubes.',\n",
              " 'Hice una reserva en un lugar para beber cerca de la estación de Shinjuku. Es todo lo que puedes beber durante 2 horas por 2500 yenes.',\n",
              " 'No hace mucho escuchamos a un padre decir en presencia de su numerosa familia no quiero que ninguno de mis hijos sea abogado',\n",
              " 'Fíjese en las manos de las personas que conoce y se sorprenderá al ver lo diferentes e interesantes que son.',\n",
              " 'Más de 100 toneladas de partículas del tamaño de polvo y arena bombardean la tierra todos los días desde el espacio, la mayoría de las cuales pasan desapercibidas.',\n",
              " 'La policía dibujó el contorno de un cuerpo en la escena del crimen para indicar cómo yacía el cuerpo cuando fue encontrado.',\n",
              " 'Esta es una época del año en que las personas se reúnen con familiares y amigos para observar la Pascua y celebrar la Pascua.',\n",
              " 'Un hombre aterrizó en la luna Un muro cayó en Berlín Un mundo fue conectado por nuestra propia ciencia e imaginación',\n",
              " 'Ser feliz no significa que todo sea perfecto sino que has decidido mirar más allá de las imperfecciones',\n",
              " 'Charles Moore creó Forth en un intento de aumentar la productividad del programador sin sacrificar la eficiencia de la máquina',\n",
              " 'El Dr. Zamenhof creía que un idioma pertenece a las personas que lo hablan, por lo que nunca registró los derechos de autor del esperanto.',\n",
              " 'Cada estudiante que se ha graduado de nuestra universidad ha estudiado inglés con un hablante nativo durante al menos dos años.',\n",
              " 'Si no quieres ponerte protector solar, ese es tu problema. Simplemente no vengas a quejarte cuando te quemes con el sol.',\n",
              " 'Nadie te ha pedido que estés de acuerdo, pero ¿no puedes al menos aceptar que hay personas que tienen puntos de vista diferentes a los tuyos?',\n",
              " 'La gente se arremolinaba alrededor del herido pero dejaban paso al médico cuando llegaba al lugar del accidente',\n",
              " 'Cuando estaba estudiando para ser abogado, mis maestros me dijeron que nunca hiciera una pregunta que no supiera la respuesta.',\n",
              " 'La oportunidad de hacer lo que nos plazca, especialmente de hacer el menor trabajo duro posible, es un deseo secreto de casi todo el mundo.',\n",
              " 'Aunque los programadores de computadoras pueden usar puntos y comas todos los días, hoy en día la mayoría de las personas solo usan puntos y comas para emoticones.',\n",
              " 'Nunca había comido ningún tipo de comida tailandesa, así que estaba muy emocionada de ir a un restaurante tailandés con mi abuela.',\n",
              " 'Desde que estoy con esta dieta, mi peso ha bajado, mi colesterol ha bajado y mi apnea del sueño ha desaparecido por completo.',\n",
              " '¿Cuándo vuelve tu hermana del trabajo? No lo sé, pero creo que llegará a casa unos minutos antes que yo.',\n",
              " 'Una ventaja definitiva de las puertas automáticas es que las personas no pueden propagar sus enfermedades contagiosas tocando las manijas de las puertas.',\n",
              " 'Nunca elijas una vocación solo porque tus amigos están en ella ni rechaces otra solo porque tu peor enemigo está en ella.',\n",
              " 'El color verde a menudo se asocia con el dinero y el mundo de las finanzas porque los billetes en muchos países son verdes.',\n",
              " 'Cuando nos enteramos de un divorcio, asumimos que fue causado por la incapacidad de esas dos personas para ponerse de acuerdo sobre los fundamentos.',\n",
              " 'A un amigo con el que fui en nuestro primer viaje al extranjero le robaron la cartera no creo que haya dejado muy buena impresión',\n",
              " 'Incluso ahora, de vez en cuando pienso que me gustaría verte, no el que eres hoy, sino el que recuerdo del pasado.',\n",
              " 'Parece un blandengue en la superficie, pero en el fondo tiene una voluntad de hierro que lo convierte en un negociador extremadamente duro.',\n",
              " 'He abierto muchas cuentas de Facebook y Twitter desde 2008. Ahora tengo seis cuentas de Facebook y quince cuentas de Twitter.',\n",
              " 'La policía está instando a la gente a no recoger a los autostopistas mientras buscan a dos prisioneros que huyen después de escapar de la cárcel.',\n",
              " 'Deberíamos dedicar nuestro tiempo a crear contenido para nuestro sitio web en lugar de perder el tiempo preocupándonos por detalles cosméticos menores.',\n",
              " 'Muchas personas que hasta ahora han estado gastando dinero para pasar un buen rato ahora necesitan tener más cuidado con su dinero.',\n",
              " 'Por el delito de homicidio en primer grado este tribunal lo condena a cadena perpetua sin posibilidad de libertad condicional',\n",
              " 'Es muy fácil sonar natural en su propio idioma nativo y muy fácil sonar poco natural en su idioma no nativo.',\n",
              " 'Mi madre siempre me decía que debía poner dinero en el banco todos los meses para tener suficiente dinero en caso de una emergencia.',\n",
              " 'La diferencia entre la palabra correcta y casi la palabra correcta es la diferencia entre el rayo y la luciérnaga.',\n",
              " 'Vemos con nuestros ojos escuchamos con nuestros oídos tocamos con nuestra piel olemos con nuestra nariz y saboreamos con nuestra lengua',\n",
              " 'Si no desayunas, probablemente tendrás hambre durante la mañana y no serás tan eficiente en el trabajo como podrías.',\n",
              " 'Una ventaja de ser viejo es que ya no deseas todas las cosas que no podías comprar cuando eras joven.',\n",
              " 'Solía \\u200b\\u200bver mucho este anime cuando era niño, pero no recuerdo bien qué le pasó al héroe en el episodio final.',\n",
              " 'En la misma cantidad de tiempo que me tomaría corregir todos los errores en su informe, podría escribir un mejor informe yo mismo',\n",
              " 'El idioma inglés es sin duda el medio más fácil y al mismo tiempo más eficiente de comunicación internacional.',\n",
              " 'Pensé que había pagado la cuota mensual, pero recibí una llamada telefónica de la escuela que decía que aún tenía que pagar la factura.',\n",
              " 'Una gran relación se basa en dos principios fundamentales Primero aprecia tus similitudes y segundo respeta tus diferencias',\n",
              " 'De acuerdo con el contrato, puede tomar tres días de licencia por duelo para el funeral de su tío, pero solo uno para el de su sobrino.',\n",
              " 'Los precios de los alimentos están en su nivel más alto desde que la Organización de las Naciones Unidas para la Agricultura y la Alimentación comenzó a llevar registros en 1990',\n",
              " 'Si uno tiene derecho a vivir, también debería tener derecho a morir. Si no, entonces vivir no es un derecho sino una obligación.',\n",
              " 'Ya era bastante malo que normalmente llegara tarde al trabajo, pero llegar borracho fue la gota que colmó el vaso y voy a tener que dejarlo ir.',\n",
              " 'La maestra que supervisaba el patio de recreo se preocupó cuando vio a un hombre hablando con algunos de los niños por encima de la cerca de la escuela.',\n",
              " 'Las ciudades y provincias a lo largo del río Yangtze en el centro de China están lidiando con la peor sequía del país en más de 50 años.',\n",
              " 'Esa propuesta puede ser una forma de matar dos pájaros de un tiro, pero también debemos tener cuidado de no volvernos codiciosos y estropearlo todo.',\n",
              " 'Un comité es un grupo de personas que individualmente no pueden hacer nada pero que como grupo pueden reunirse y decidir que nada se puede hacer.',\n",
              " 'Mi desayuno suele constar de café con leche un trozo de pan con mermelada un plátano pequeño un trozo de naranja y unas ciruelas secas',\n",
              " 'Una de las mejores maneras de ayudarnos es traducir de un idioma extranjero que conoce a su propio idioma nativo o idioma más fuerte.',\n",
              " 'Dado que pronto hará frío, podría ser bueno disfrutar haciendo algo al aire libre los últimos días cálidos que tenemos antes de que llegue el invierno.',\n",
              " 'La gente tiende a elogiarte solo por tu habilidad lingüística cuando es evidente que todavía no suenas como un hablante nativo.',\n",
              " 'Un hombre que nunca ha ido a la escuela puede robar de un vagón de carga, pero si tiene educación universitaria, puede robar todo el ferrocarril.',\n",
              " '¿Qué es la vejez? Primero olvidas los nombres, luego olvidas las caras, luego olvidas subirte la cremallera y luego olvidas bajarla.',\n",
              " 'Él y yo nos entendemos casi telepáticamente. Tan pronto como uno de nosotros dice algo, el otro ya está respondiendo.',\n",
              " 'Aunque las selvas tropicales representan solo el dos por ciento de la superficie terrestre, más de la mitad de las especies de plantas, animales e insectos silvestres del mundo viven allí.',\n",
              " 'Tiene un novio con el que ha estado saliendo desde la escuela secundaria, pero siente que su relación se ha estancado, por lo que está insatisfecha.',\n",
              " 'Si llevas a un niño afuera y apuntas a la luna, el niño mirará la luna. Si haces lo mismo con un perro, mirará tu dedo.',\n",
              " 'Si traduce de su segundo idioma a su propio idioma nativo en lugar de hacerlo al revés, es menos probable que cometa errores.',\n",
              " 'Me encanta probar cosas nuevas, así que siempre compro productos tan pronto como llegan a los estantes de las tiendas. Por supuesto, la mitad del tiempo termino deseando no haberlo hecho.',\n",
              " 'Una buena teoría se caracteriza por el hecho de que hace una serie de predicciones que, en principio, podrían ser refutadas o falsificadas por la observación.',\n",
              " 'Un planeta similar a la Tierra que se cree que tiene condiciones que sustentarían la vida tal como la conocemos ha sido descubierto a 500 años luz de la Tierra.',\n",
              " 'Cuanto más tiempo pase hablando un idioma extranjero, mejor podrá adivinar lo que los hablantes no nativos están tratando de decir en su propio idioma.',\n",
              " 'La indagatoria concluyó que, a pesar de sus desmentidos, el primer ejecutivo tendría que haber tenido conocimiento de las prácticas ilegales que ocurren en la empresa.',\n",
              " 'El padre de Roger Miller murió cuando él tenía solo un año y su madre se enfermó poco después, por lo que lo enviaron a vivir con su tío en Erick Oklahoma.',\n",
              " 'Es posible que no aprenda a hablar tan bien como un hablante nativo, pero debe poder hablar lo suficientemente bien como para que los hablantes nativos entiendan lo que tiene que decir.',\n",
              " 'Y la buena noticia es que hoy la economía está creciendo de nuevo. Los salarios, los ingresos, el valor de la vivienda y las cuentas de jubilación están aumentando de nuevo. La pobreza está cayendo de nuevo.',\n",
              " 'Los cigarrillos electrónicos se promocionan como una alternativa saludable a los cigarrillos de tabaco, pero las autoridades sanitarias están preocupadas por los efectos a largo plazo en la salud de los usuarios.',\n",
              " 'Todavía es demasiado difícil encontrar un trabajo E incluso si tiene un trabajo, es probable que le resulte más difícil pagar los costos crecientes de todo, desde comestibles hasta gasolina.',\n",
              " 'Incluso a fines del siglo XIX, a los marineros de la Marina británica no se les permitía usar cuchillos y tenedores porque usarlos se consideraba un signo de debilidad.',\n",
              " 'Cinco temblores de magnitud superior a 50 en la escala de Richter sacudieron Japón esta semana, pero los científicos advierten que la mayor réplica esperada aún no se ha producido.',\n",
              " 'No importa cuánto intente convencer a la gente de que el chocolate es vainilla, seguirá siendo chocolate, aunque pueda convencerse a sí mismo y a algunos otros de que es vainilla.',\n",
              " 'Un niño que es hablante nativo por lo general sabe muchas cosas sobre su idioma que un hablante no nativo que ha estado estudiando durante años aún no sabe y quizás nunca sabrá.',\n",
              " 'Hay cuatro causas principales de muerte relacionadas con el alcohol. Las lesiones por accidentes automovilísticos o violencia son una. Las enfermedades como la cirrosis del hígado. El cáncer. Las enfermedades del corazón y del sistema sanguíneo son las otras.',\n",
              " 'Necesitamos defender las leyes contra la discriminación en la contratación y en la vivienda y en la educación y en el sistema de justicia penal. Eso es lo que exige nuestra Constitución y nuestros más altos ideales.',\n",
              " 'La economía de arriba hacia abajo nunca funciona, dijo Obama. El país no tiene éxito cuando solo a los que están en la cima les va bien. Tenemos éxito cuando la clase media crece cuando se siente más segura.',\n",
              " 'Una huella de carbono es la cantidad de contaminación por dióxido de carbono que producimos como resultado de nuestras actividades. Algunas personas intentan reducir su huella de carbono porque les preocupa el cambio climático.',\n",
              " 'La muerte es algo de lo que a menudo nos desanimamos a hablar o incluso pensar, pero me he dado cuenta de que prepararse para la muerte es una de las cosas más poderosas que puedes hacer. Pensar en la muerte aclara tu vida.',\n",
              " 'Dado que generalmente hay varios sitios web sobre un tema determinado, generalmente solo hago clic en el botón Atrás cuando llego a cualquier página web que tiene publicidad emergente. Simplemente voy a la siguiente página que encuentra Google y espero algo menos irritante.',\n",
              " 'Si alguien que no conoce tus antecedentes dice que hablas como un hablante nativo, significa que probablemente notó algo en tu forma de hablar que les hizo darse cuenta de que no eras un hablante nativo. En otras palabras, realmente no suenas como un hablante nativo.']"
            ]
          },
          "metadata": {},
          "execution_count": 31
        }
      ]
    },
    {
      "cell_type": "markdown",
      "source": [
        "# Task 2\n",
        "Create a program that needs to automatically correct that spelling from the word or a given sentence. (Language : English)"
      ],
      "metadata": {
        "id": "xdrapZb_pj6L"
      }
    },
    {
      "cell_type": "code",
      "source": [
        "!pip install pyspellchecker"
      ],
      "metadata": {
        "colab": {
          "base_uri": "https://localhost:8080/"
        },
        "id": "RXZobJ0KpktY",
        "outputId": "40b851cd-1bce-433b-a070-e7bf02398ebe"
      },
      "execution_count": 32,
      "outputs": [
        {
          "output_type": "stream",
          "name": "stdout",
          "text": [
            "Looking in indexes: https://pypi.org/simple, https://us-python.pkg.dev/colab-wheels/public/simple/\n",
            "Collecting pyspellchecker\n",
            "  Downloading pyspellchecker-0.7.0-py3-none-any.whl (2.5 MB)\n",
            "\u001b[K     |████████████████████████████████| 2.5 MB 4.1 MB/s \n",
            "\u001b[?25hInstalling collected packages: pyspellchecker\n",
            "Successfully installed pyspellchecker-0.7.0\n"
          ]
        }
      ]
    },
    {
      "cell_type": "markdown",
      "source": [
        "Spell correction for words"
      ],
      "metadata": {
        "id": "I2QLV6MPpq09"
      }
    },
    {
      "cell_type": "code",
      "source": [
        "from spellchecker import SpellChecker\n",
        " \n",
        "specheck = SpellChecker()\n",
        "\n",
        "misspelled_words = specheck.unknown([\"cmputr\", \"watr\", \"wriet\", \"athist\", \"acceptible\", \"benifit\", \"acommodate\", \"amatuer\", \"acknowlege\", \"becomeing\", \n",
        "                            \"camoflague\", \"catagory\", \"cauhgt\", \"cematery\", \"apparrent\", \"congradulate\", \"conceed\", \"definit\", \"disasterous\", \"dilema\",\n",
        "                            \"equiptment \", \"excede\", \"experiance\", \"innoculate\", \"extreem\", \"guage\", \"gratful\", \"guidence\", \"heirarchy\", \"dumbell\",\n",
        "                            \"necessery\", \"inteligence\", \"kernal\", \"libary\", \"outragous\", \"marshmellow\", \"miniture\", \"medeval\", \"nieghbor\", \"origenal\"])\n",
        "\n",
        "for word in misspelled_words:\n",
        "    print(specheck.correction(word))"
      ],
      "metadata": {
        "colab": {
          "base_uri": "https://localhost:8080/"
        },
        "id": "SAdgH4SUpnkV",
        "outputId": "2a707289-13df-4e7a-f1ea-729a1fcbda5f"
      },
      "execution_count": 33,
      "outputs": [
        {
          "output_type": "stream",
          "name": "stdout",
          "text": [
            "water\n",
            "cemetery\n",
            "medieval\n",
            "becoming\n",
            "inoculate\n",
            "computer\n",
            "library\n",
            "outrageous\n",
            "intelligence\n",
            "extreme\n",
            "dilemma\n",
            "accommodate\n",
            "gauge\n",
            "equipment\n",
            "dumbbell\n",
            "write\n",
            "atheist\n",
            "congratulate\n",
            "guidance\n",
            "caught\n",
            "grateful\n",
            "camouflage\n",
            "original\n",
            "definite\n",
            "marshmallow\n",
            "acknowledge\n",
            "kernel\n",
            "category\n",
            "acceptable\n",
            "apparent\n",
            "hierarchy\n",
            "disastrous\n",
            "exceed\n",
            "amateur\n",
            "concede\n",
            "benefit\n",
            "necessary\n",
            "neighbor\n",
            "experience\n",
            "miniature\n"
          ]
        }
      ]
    },
    {
      "cell_type": "code",
      "source": [
        "!sudo apt-get install swig"
      ],
      "metadata": {
        "colab": {
          "base_uri": "https://localhost:8080/"
        },
        "id": "bvydtc8Ip0tH",
        "outputId": "04e6a2b6-24a0-4fd2-a03d-881eb3326223"
      },
      "execution_count": 34,
      "outputs": [
        {
          "output_type": "stream",
          "name": "stdout",
          "text": [
            "Reading package lists... Done\n",
            "Building dependency tree       \n",
            "Reading state information... Done\n",
            "The following package was automatically installed and is no longer required:\n",
            "  libnvidia-common-460\n",
            "Use 'sudo apt autoremove' to remove it.\n",
            "The following additional packages will be installed:\n",
            "  swig3.0\n",
            "Suggested packages:\n",
            "  swig-doc swig-examples swig3.0-examples swig3.0-doc\n",
            "The following NEW packages will be installed:\n",
            "  swig swig3.0\n",
            "0 upgraded, 2 newly installed, 0 to remove and 20 not upgraded.\n",
            "Need to get 1,100 kB of archives.\n",
            "After this operation, 5,822 kB of additional disk space will be used.\n",
            "Get:1 http://archive.ubuntu.com/ubuntu bionic/universe amd64 swig3.0 amd64 3.0.12-1 [1,094 kB]\n",
            "Get:2 http://archive.ubuntu.com/ubuntu bionic/universe amd64 swig amd64 3.0.12-1 [6,460 B]\n",
            "Fetched 1,100 kB in 0s (3,216 kB/s)\n",
            "debconf: unable to initialize frontend: Dialog\n",
            "debconf: (No usable dialog-like program is installed, so the dialog based frontend cannot be used. at /usr/share/perl5/Debconf/FrontEnd/Dialog.pm line 76, <> line 2.)\n",
            "debconf: falling back to frontend: Readline\n",
            "debconf: unable to initialize frontend: Readline\n",
            "debconf: (This frontend requires a controlling tty.)\n",
            "debconf: falling back to frontend: Teletype\n",
            "dpkg-preconfigure: unable to re-open stdin: \n",
            "Selecting previously unselected package swig3.0.\n",
            "(Reading database ... 155569 files and directories currently installed.)\n",
            "Preparing to unpack .../swig3.0_3.0.12-1_amd64.deb ...\n",
            "Unpacking swig3.0 (3.0.12-1) ...\n",
            "Selecting previously unselected package swig.\n",
            "Preparing to unpack .../swig_3.0.12-1_amd64.deb ...\n",
            "Unpacking swig (3.0.12-1) ...\n",
            "Setting up swig3.0 (3.0.12-1) ...\n",
            "Setting up swig (3.0.12-1) ...\n",
            "Processing triggers for man-db (2.8.3-2ubuntu0.1) ...\n"
          ]
        }
      ]
    },
    {
      "cell_type": "code",
      "source": [
        "!sudo pip install jamspell"
      ],
      "metadata": {
        "colab": {
          "base_uri": "https://localhost:8080/"
        },
        "id": "8ZEN0b6mp6GG",
        "outputId": "c2c73d61-14c2-444f-dbee-72f7fc69d644"
      },
      "execution_count": 35,
      "outputs": [
        {
          "output_type": "stream",
          "name": "stdout",
          "text": [
            "Looking in indexes: https://pypi.org/simple, https://us-python.pkg.dev/colab-wheels/public/simple/\n",
            "Collecting jamspell\n",
            "  Downloading jamspell-0.0.12.tar.gz (174 kB)\n",
            "\u001b[K     |████████████████████████████████| 174 kB 4.1 MB/s \n",
            "\u001b[?25hBuilding wheels for collected packages: jamspell\n",
            "  Building wheel for jamspell (setup.py) ... \u001b[?25l\u001b[?25hdone\n",
            "  Created wheel for jamspell: filename=jamspell-0.0.12-cp37-cp37m-linux_x86_64.whl size=1347639 sha256=a2a5232043518f068e9aa898268aa29a9f094c192e76d573ec3a7dfa2940327d\n",
            "  Stored in directory: /root/.cache/pip/wheels/68/df/9c/9b335e69aa0f28e7f508ec0ebefadcc703f168beb52ae7ebe7\n",
            "Successfully built jamspell\n",
            "Installing collected packages: jamspell\n",
            "Successfully installed jamspell-0.0.12\n"
          ]
        }
      ]
    },
    {
      "cell_type": "code",
      "source": [
        "!wget https://github.com/bakwc/JamSpell-models/raw/master/en.tar.gz"
      ],
      "metadata": {
        "colab": {
          "base_uri": "https://localhost:8080/"
        },
        "id": "hCdtvNSfp8lJ",
        "outputId": "f43b01d9-f2ee-4d2a-ec57-9899b05bb1fd"
      },
      "execution_count": 36,
      "outputs": [
        {
          "output_type": "stream",
          "name": "stdout",
          "text": [
            "--2022-09-20 17:38:44--  https://github.com/bakwc/JamSpell-models/raw/master/en.tar.gz\n",
            "Resolving github.com (github.com)... 140.82.114.4\n",
            "Connecting to github.com (github.com)|140.82.114.4|:443... connected.\n",
            "HTTP request sent, awaiting response... 302 Found\n",
            "Location: https://raw.githubusercontent.com/bakwc/JamSpell-models/master/en.tar.gz [following]\n",
            "--2022-09-20 17:38:44--  https://raw.githubusercontent.com/bakwc/JamSpell-models/master/en.tar.gz\n",
            "Resolving raw.githubusercontent.com (raw.githubusercontent.com)... 185.199.111.133, 185.199.108.133, 185.199.109.133, ...\n",
            "Connecting to raw.githubusercontent.com (raw.githubusercontent.com)|185.199.111.133|:443... connected.\n",
            "HTTP request sent, awaiting response... 200 OK\n",
            "Length: 36611828 (35M) [application/octet-stream]\n",
            "Saving to: ‘en.tar.gz’\n",
            "\n",
            "en.tar.gz           100%[===================>]  34.92M   150MB/s    in 0.2s    \n",
            "\n",
            "2022-09-20 17:38:44 (150 MB/s) - ‘en.tar.gz’ saved [36611828/36611828]\n",
            "\n"
          ]
        }
      ]
    },
    {
      "cell_type": "code",
      "source": [
        "!tar -xvf en.tar.gz"
      ],
      "metadata": {
        "colab": {
          "base_uri": "https://localhost:8080/"
        },
        "id": "rnkOPGLep-8z",
        "outputId": "5ee6e2e5-7653-43f6-8193-a1754555e3ac"
      },
      "execution_count": 37,
      "outputs": [
        {
          "output_type": "stream",
          "name": "stdout",
          "text": [
            "en.bin\n"
          ]
        }
      ]
    },
    {
      "cell_type": "code",
      "source": [
        "import jamspell"
      ],
      "metadata": {
        "id": "l2g_cD5BqBAl"
      },
      "execution_count": 38,
      "outputs": []
    },
    {
      "cell_type": "markdown",
      "source": [
        "Spell correction for sentences"
      ],
      "metadata": {
        "id": "Ofd6n9adqEPM"
      }
    },
    {
      "cell_type": "code",
      "source": [
        "# Load Language model\n",
        "jsp = jamspell.TSpellCorrector()\n",
        "assert jsp.LoadLangModel('en.bin')\n",
        " \n",
        "# To fix text automatically run FixFragment:\n",
        "print(jsp.FixFragment(\"Tody is my birtda\"))\n",
        "print(jsp.FixFragment(\"my computr damged\"))\n",
        "print(jsp.FixFragment(\"tomrow is holday\"))"
      ],
      "metadata": {
        "colab": {
          "base_uri": "https://localhost:8080/"
        },
        "id": "WoGtyZkHqFMC",
        "outputId": "a6102549-3808-4636-8f78-fa238bf9819b"
      },
      "execution_count": 42,
      "outputs": [
        {
          "output_type": "stream",
          "name": "stdout",
          "text": [
            "Today is my birth\n",
            "my computer damaged\n",
            "tomorrow is holiday\n"
          ]
        }
      ]
    },
    {
      "cell_type": "markdown",
      "source": [
        "# Task 3\n",
        "\n",
        "Resume Filter"
      ],
      "metadata": {
        "id": "R11xjJS9AsyW"
      }
    },
    {
      "cell_type": "markdown",
      "source": [
        "# Task 4\n",
        "Chat Bot of a Hotel"
      ],
      "metadata": {
        "id": "S7Rd21M5AyAf"
      }
    }
  ]
}